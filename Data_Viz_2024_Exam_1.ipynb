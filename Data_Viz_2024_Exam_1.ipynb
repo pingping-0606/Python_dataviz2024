{
  "nbformat": 4,
  "nbformat_minor": 0,
  "metadata": {
    "colab": {
      "provenance": [],
      "authorship_tag": "ABX9TyO3PozoykieJR+wcaYU3FOM",
      "include_colab_link": true
    },
    "kernelspec": {
      "name": "python3",
      "display_name": "Python 3"
    },
    "language_info": {
      "name": "python"
    }
  },
  "cells": [
    {
      "cell_type": "markdown",
      "metadata": {
        "id": "view-in-github",
        "colab_type": "text"
      },
      "source": [
        "<a href=\"https://colab.research.google.com/github/pingping-0606/Python_dataviz2024/blob/main/Data_Viz_2024_Exam_1.ipynb\" target=\"_parent\"><img src=\"https://colab.research.google.com/assets/colab-badge.svg\" alt=\"Open In Colab\"/></a>"
      ]
    },
    {
      "cell_type": "markdown",
      "source": [
        "#Data Viz 2024 Exam 1"
      ],
      "metadata": {
        "id": "fJCPvkoqQbB3"
      }
    },
    {
      "cell_type": "code",
      "execution_count": 28,
      "metadata": {
        "id": "n-_9XH9Xmh_n"
      },
      "outputs": [],
      "source": [
        "import os"
      ]
    },
    {
      "cell_type": "code",
      "source": [
        "from google.colab import drive\n",
        "drive.mount('/content/drive')"
      ],
      "metadata": {
        "colab": {
          "base_uri": "https://localhost:8080/"
        },
        "id": "yZ-vpwTSmwa-",
        "outputId": "54257297-eac7-4b19-8506-dd895aa518f7"
      },
      "execution_count": 29,
      "outputs": [
        {
          "output_type": "stream",
          "name": "stdout",
          "text": [
            "Drive already mounted at /content/drive; to attempt to forcibly remount, call drive.mount(\"/content/drive\", force_remount=True).\n"
          ]
        }
      ]
    },
    {
      "cell_type": "code",
      "source": [
        "path_to_TidyData='/content/drive/MyDrive/data_viz_2024/test-TidyData_2024.xlsx'"
      ],
      "metadata": {
        "id": "ObyH0BkenhyD"
      },
      "execution_count": 30,
      "outputs": []
    },
    {
      "cell_type": "code",
      "source": [
        "import pandas as pd"
      ],
      "metadata": {
        "id": "VoLNjELfnrzr"
      },
      "execution_count": 31,
      "outputs": []
    },
    {
      "cell_type": "code",
      "source": [
        "Tidy_df = pd.read_excel(\"/content/drive/MyDrive/data_viz_2024/test-TidyData_2024.xlsx\")"
      ],
      "metadata": {
        "id": "0sn8ZtpknvOo"
      },
      "execution_count": 32,
      "outputs": []
    },
    {
      "cell_type": "markdown",
      "source": [
        "#ข้อที่ 1"
      ],
      "metadata": {
        "id": "k5mxRFutvUFo"
      }
    },
    {
      "cell_type": "markdown",
      "source": [
        "หาความแตกต่างของค่าเฉลี่ย ของข้อมูล Chlo_a ทุกๆ station ระหว่างปี 2018 และ ปี 2019"
      ],
      "metadata": {
        "id": "SVq8Kf0WvWoH"
      }
    },
    {
      "cell_type": "code",
      "source": [
        "import pandas as pd"
      ],
      "metadata": {
        "id": "IqYApO3Q5xIe"
      },
      "execution_count": 71,
      "outputs": []
    },
    {
      "cell_type": "code",
      "source": [
        "Tidy_df"
      ],
      "metadata": {
        "colab": {
          "base_uri": "https://localhost:8080/",
          "height": 423
        },
        "id": "2P86SrBlLAtI",
        "outputId": "04aaa37a-ffee-4dfe-e06f-24c4710d42b6"
      },
      "execution_count": 93,
      "outputs": [
        {
          "output_type": "execute_result",
          "data": {
            "text/plain": [
              "         month  station  rep.    Chlo_a    Chlo_b  total_Caro  Temp.    pH  \\\n",
              "0    July_2018        1     1  0.094645  0.011954    0.026780   30.2  5.54   \n",
              "1    July_2018        2     1  0.038433  0.059019    0.021387   29.1  6.24   \n",
              "2    July_2018        3     1  0.043884  0.089415    0.023223   29.7  5.52   \n",
              "3    July_2018        4     1  0.039836  0.064552    0.016537   29.2  5.92   \n",
              "4    July_2018        5     1  0.044712  0.062424    0.022990   29.5  5.79   \n",
              "..         ...      ...   ...       ...       ...         ...    ...   ...   \n",
              "193  July_2019        2     3  0.030521  0.015358    0.018067   31.2  7.74   \n",
              "194  July_2019        3     3  0.024081  0.020217    0.015981   29.7  7.50   \n",
              "195  July_2019        4     3  0.015525  0.009612    0.009373   31.5  7.51   \n",
              "196  July_2019        5     3  0.015180  0.011811    0.009697   28.5  7.31   \n",
              "197  July_2019        6     3  0.008556  0.010605    0.005704   31.5  7.71   \n",
              "\n",
              "        EC  Salinity    TDS    DO   Nitrate  Ammonium  Phosphate  \\\n",
              "0    622.7     330.3  545.2  4.37  0.172902  0.052817   0.012748   \n",
              "1    580.7     307.0  488.2  6.55  0.154197  0.144843   0.006086   \n",
              "2    547.1     289.4  462.2  5.67  0.153097  0.154321   0.014158   \n",
              "3    473.6     249.2  397.9  0.69  0.157026  0.387408   0.056951   \n",
              "4    685.5     366.0  581.2  4.46  0.204024  0.043387   0.007239   \n",
              "..     ...       ...    ...   ...       ...       ...        ...   \n",
              "193  580.5     309.2  517.0  6.31  0.132034  0.030959  -0.000064   \n",
              "194  513.0     272.6  436.0  3.00  0.230116  0.059103  -0.000064   \n",
              "195  550.9     289.8  498.4  4.02  0.123546  0.136428  -0.000064   \n",
              "196  540.6     287.4  443.4  1.53  0.110028  0.056057  -0.000064   \n",
              "197  544.7     288.2  493.8  6.32  0.165042  0.105817  -0.000064   \n",
              "\n",
              "     No.Algal_cell  @dropdown  \n",
              "0     1.635833e+05        NaN  \n",
              "1     1.166667e+06        NaN  \n",
              "2     2.970000e+06        NaN  \n",
              "3     5.066667e+05        NaN  \n",
              "4     1.265000e+06        NaN  \n",
              "..             ...        ...  \n",
              "193   2.665833e+05        NaN  \n",
              "194   6.428333e+05        NaN  \n",
              "195   2.945000e+05        NaN  \n",
              "196   3.470833e+05        NaN  \n",
              "197   3.692500e+05        NaN  \n",
              "\n",
              "[198 rows x 17 columns]"
            ],
            "text/html": [
              "\n",
              "  <div id=\"df-74968755-572e-4d77-b143-c9637143f480\" class=\"colab-df-container\">\n",
              "    <div>\n",
              "<style scoped>\n",
              "    .dataframe tbody tr th:only-of-type {\n",
              "        vertical-align: middle;\n",
              "    }\n",
              "\n",
              "    .dataframe tbody tr th {\n",
              "        vertical-align: top;\n",
              "    }\n",
              "\n",
              "    .dataframe thead th {\n",
              "        text-align: right;\n",
              "    }\n",
              "</style>\n",
              "<table border=\"1\" class=\"dataframe\">\n",
              "  <thead>\n",
              "    <tr style=\"text-align: right;\">\n",
              "      <th></th>\n",
              "      <th>month</th>\n",
              "      <th>station</th>\n",
              "      <th>rep.</th>\n",
              "      <th>Chlo_a</th>\n",
              "      <th>Chlo_b</th>\n",
              "      <th>total_Caro</th>\n",
              "      <th>Temp.</th>\n",
              "      <th>pH</th>\n",
              "      <th>EC</th>\n",
              "      <th>Salinity</th>\n",
              "      <th>TDS</th>\n",
              "      <th>DO</th>\n",
              "      <th>Nitrate</th>\n",
              "      <th>Ammonium</th>\n",
              "      <th>Phosphate</th>\n",
              "      <th>No.Algal_cell</th>\n",
              "      <th>@dropdown</th>\n",
              "    </tr>\n",
              "  </thead>\n",
              "  <tbody>\n",
              "    <tr>\n",
              "      <th>0</th>\n",
              "      <td>July_2018</td>\n",
              "      <td>1</td>\n",
              "      <td>1</td>\n",
              "      <td>0.094645</td>\n",
              "      <td>0.011954</td>\n",
              "      <td>0.026780</td>\n",
              "      <td>30.2</td>\n",
              "      <td>5.54</td>\n",
              "      <td>622.7</td>\n",
              "      <td>330.3</td>\n",
              "      <td>545.2</td>\n",
              "      <td>4.37</td>\n",
              "      <td>0.172902</td>\n",
              "      <td>0.052817</td>\n",
              "      <td>0.012748</td>\n",
              "      <td>1.635833e+05</td>\n",
              "      <td>NaN</td>\n",
              "    </tr>\n",
              "    <tr>\n",
              "      <th>1</th>\n",
              "      <td>July_2018</td>\n",
              "      <td>2</td>\n",
              "      <td>1</td>\n",
              "      <td>0.038433</td>\n",
              "      <td>0.059019</td>\n",
              "      <td>0.021387</td>\n",
              "      <td>29.1</td>\n",
              "      <td>6.24</td>\n",
              "      <td>580.7</td>\n",
              "      <td>307.0</td>\n",
              "      <td>488.2</td>\n",
              "      <td>6.55</td>\n",
              "      <td>0.154197</td>\n",
              "      <td>0.144843</td>\n",
              "      <td>0.006086</td>\n",
              "      <td>1.166667e+06</td>\n",
              "      <td>NaN</td>\n",
              "    </tr>\n",
              "    <tr>\n",
              "      <th>2</th>\n",
              "      <td>July_2018</td>\n",
              "      <td>3</td>\n",
              "      <td>1</td>\n",
              "      <td>0.043884</td>\n",
              "      <td>0.089415</td>\n",
              "      <td>0.023223</td>\n",
              "      <td>29.7</td>\n",
              "      <td>5.52</td>\n",
              "      <td>547.1</td>\n",
              "      <td>289.4</td>\n",
              "      <td>462.2</td>\n",
              "      <td>5.67</td>\n",
              "      <td>0.153097</td>\n",
              "      <td>0.154321</td>\n",
              "      <td>0.014158</td>\n",
              "      <td>2.970000e+06</td>\n",
              "      <td>NaN</td>\n",
              "    </tr>\n",
              "    <tr>\n",
              "      <th>3</th>\n",
              "      <td>July_2018</td>\n",
              "      <td>4</td>\n",
              "      <td>1</td>\n",
              "      <td>0.039836</td>\n",
              "      <td>0.064552</td>\n",
              "      <td>0.016537</td>\n",
              "      <td>29.2</td>\n",
              "      <td>5.92</td>\n",
              "      <td>473.6</td>\n",
              "      <td>249.2</td>\n",
              "      <td>397.9</td>\n",
              "      <td>0.69</td>\n",
              "      <td>0.157026</td>\n",
              "      <td>0.387408</td>\n",
              "      <td>0.056951</td>\n",
              "      <td>5.066667e+05</td>\n",
              "      <td>NaN</td>\n",
              "    </tr>\n",
              "    <tr>\n",
              "      <th>4</th>\n",
              "      <td>July_2018</td>\n",
              "      <td>5</td>\n",
              "      <td>1</td>\n",
              "      <td>0.044712</td>\n",
              "      <td>0.062424</td>\n",
              "      <td>0.022990</td>\n",
              "      <td>29.5</td>\n",
              "      <td>5.79</td>\n",
              "      <td>685.5</td>\n",
              "      <td>366.0</td>\n",
              "      <td>581.2</td>\n",
              "      <td>4.46</td>\n",
              "      <td>0.204024</td>\n",
              "      <td>0.043387</td>\n",
              "      <td>0.007239</td>\n",
              "      <td>1.265000e+06</td>\n",
              "      <td>NaN</td>\n",
              "    </tr>\n",
              "    <tr>\n",
              "      <th>...</th>\n",
              "      <td>...</td>\n",
              "      <td>...</td>\n",
              "      <td>...</td>\n",
              "      <td>...</td>\n",
              "      <td>...</td>\n",
              "      <td>...</td>\n",
              "      <td>...</td>\n",
              "      <td>...</td>\n",
              "      <td>...</td>\n",
              "      <td>...</td>\n",
              "      <td>...</td>\n",
              "      <td>...</td>\n",
              "      <td>...</td>\n",
              "      <td>...</td>\n",
              "      <td>...</td>\n",
              "      <td>...</td>\n",
              "      <td>...</td>\n",
              "    </tr>\n",
              "    <tr>\n",
              "      <th>193</th>\n",
              "      <td>July_2019</td>\n",
              "      <td>2</td>\n",
              "      <td>3</td>\n",
              "      <td>0.030521</td>\n",
              "      <td>0.015358</td>\n",
              "      <td>0.018067</td>\n",
              "      <td>31.2</td>\n",
              "      <td>7.74</td>\n",
              "      <td>580.5</td>\n",
              "      <td>309.2</td>\n",
              "      <td>517.0</td>\n",
              "      <td>6.31</td>\n",
              "      <td>0.132034</td>\n",
              "      <td>0.030959</td>\n",
              "      <td>-0.000064</td>\n",
              "      <td>2.665833e+05</td>\n",
              "      <td>NaN</td>\n",
              "    </tr>\n",
              "    <tr>\n",
              "      <th>194</th>\n",
              "      <td>July_2019</td>\n",
              "      <td>3</td>\n",
              "      <td>3</td>\n",
              "      <td>0.024081</td>\n",
              "      <td>0.020217</td>\n",
              "      <td>0.015981</td>\n",
              "      <td>29.7</td>\n",
              "      <td>7.50</td>\n",
              "      <td>513.0</td>\n",
              "      <td>272.6</td>\n",
              "      <td>436.0</td>\n",
              "      <td>3.00</td>\n",
              "      <td>0.230116</td>\n",
              "      <td>0.059103</td>\n",
              "      <td>-0.000064</td>\n",
              "      <td>6.428333e+05</td>\n",
              "      <td>NaN</td>\n",
              "    </tr>\n",
              "    <tr>\n",
              "      <th>195</th>\n",
              "      <td>July_2019</td>\n",
              "      <td>4</td>\n",
              "      <td>3</td>\n",
              "      <td>0.015525</td>\n",
              "      <td>0.009612</td>\n",
              "      <td>0.009373</td>\n",
              "      <td>31.5</td>\n",
              "      <td>7.51</td>\n",
              "      <td>550.9</td>\n",
              "      <td>289.8</td>\n",
              "      <td>498.4</td>\n",
              "      <td>4.02</td>\n",
              "      <td>0.123546</td>\n",
              "      <td>0.136428</td>\n",
              "      <td>-0.000064</td>\n",
              "      <td>2.945000e+05</td>\n",
              "      <td>NaN</td>\n",
              "    </tr>\n",
              "    <tr>\n",
              "      <th>196</th>\n",
              "      <td>July_2019</td>\n",
              "      <td>5</td>\n",
              "      <td>3</td>\n",
              "      <td>0.015180</td>\n",
              "      <td>0.011811</td>\n",
              "      <td>0.009697</td>\n",
              "      <td>28.5</td>\n",
              "      <td>7.31</td>\n",
              "      <td>540.6</td>\n",
              "      <td>287.4</td>\n",
              "      <td>443.4</td>\n",
              "      <td>1.53</td>\n",
              "      <td>0.110028</td>\n",
              "      <td>0.056057</td>\n",
              "      <td>-0.000064</td>\n",
              "      <td>3.470833e+05</td>\n",
              "      <td>NaN</td>\n",
              "    </tr>\n",
              "    <tr>\n",
              "      <th>197</th>\n",
              "      <td>July_2019</td>\n",
              "      <td>6</td>\n",
              "      <td>3</td>\n",
              "      <td>0.008556</td>\n",
              "      <td>0.010605</td>\n",
              "      <td>0.005704</td>\n",
              "      <td>31.5</td>\n",
              "      <td>7.71</td>\n",
              "      <td>544.7</td>\n",
              "      <td>288.2</td>\n",
              "      <td>493.8</td>\n",
              "      <td>6.32</td>\n",
              "      <td>0.165042</td>\n",
              "      <td>0.105817</td>\n",
              "      <td>-0.000064</td>\n",
              "      <td>3.692500e+05</td>\n",
              "      <td>NaN</td>\n",
              "    </tr>\n",
              "  </tbody>\n",
              "</table>\n",
              "<p>198 rows × 17 columns</p>\n",
              "</div>\n",
              "    <div class=\"colab-df-buttons\">\n",
              "\n",
              "  <div class=\"colab-df-container\">\n",
              "    <button class=\"colab-df-convert\" onclick=\"convertToInteractive('df-74968755-572e-4d77-b143-c9637143f480')\"\n",
              "            title=\"Convert this dataframe to an interactive table.\"\n",
              "            style=\"display:none;\">\n",
              "\n",
              "  <svg xmlns=\"http://www.w3.org/2000/svg\" height=\"24px\" viewBox=\"0 -960 960 960\">\n",
              "    <path d=\"M120-120v-720h720v720H120Zm60-500h600v-160H180v160Zm220 220h160v-160H400v160Zm0 220h160v-160H400v160ZM180-400h160v-160H180v160Zm440 0h160v-160H620v160ZM180-180h160v-160H180v160Zm440 0h160v-160H620v160Z\"/>\n",
              "  </svg>\n",
              "    </button>\n",
              "\n",
              "  <style>\n",
              "    .colab-df-container {\n",
              "      display:flex;\n",
              "      gap: 12px;\n",
              "    }\n",
              "\n",
              "    .colab-df-convert {\n",
              "      background-color: #E8F0FE;\n",
              "      border: none;\n",
              "      border-radius: 50%;\n",
              "      cursor: pointer;\n",
              "      display: none;\n",
              "      fill: #1967D2;\n",
              "      height: 32px;\n",
              "      padding: 0 0 0 0;\n",
              "      width: 32px;\n",
              "    }\n",
              "\n",
              "    .colab-df-convert:hover {\n",
              "      background-color: #E2EBFA;\n",
              "      box-shadow: 0px 1px 2px rgba(60, 64, 67, 0.3), 0px 1px 3px 1px rgba(60, 64, 67, 0.15);\n",
              "      fill: #174EA6;\n",
              "    }\n",
              "\n",
              "    .colab-df-buttons div {\n",
              "      margin-bottom: 4px;\n",
              "    }\n",
              "\n",
              "    [theme=dark] .colab-df-convert {\n",
              "      background-color: #3B4455;\n",
              "      fill: #D2E3FC;\n",
              "    }\n",
              "\n",
              "    [theme=dark] .colab-df-convert:hover {\n",
              "      background-color: #434B5C;\n",
              "      box-shadow: 0px 1px 3px 1px rgba(0, 0, 0, 0.15);\n",
              "      filter: drop-shadow(0px 1px 2px rgba(0, 0, 0, 0.3));\n",
              "      fill: #FFFFFF;\n",
              "    }\n",
              "  </style>\n",
              "\n",
              "    <script>\n",
              "      const buttonEl =\n",
              "        document.querySelector('#df-74968755-572e-4d77-b143-c9637143f480 button.colab-df-convert');\n",
              "      buttonEl.style.display =\n",
              "        google.colab.kernel.accessAllowed ? 'block' : 'none';\n",
              "\n",
              "      async function convertToInteractive(key) {\n",
              "        const element = document.querySelector('#df-74968755-572e-4d77-b143-c9637143f480');\n",
              "        const dataTable =\n",
              "          await google.colab.kernel.invokeFunction('convertToInteractive',\n",
              "                                                    [key], {});\n",
              "        if (!dataTable) return;\n",
              "\n",
              "        const docLinkHtml = 'Like what you see? Visit the ' +\n",
              "          '<a target=\"_blank\" href=https://colab.research.google.com/notebooks/data_table.ipynb>data table notebook</a>'\n",
              "          + ' to learn more about interactive tables.';\n",
              "        element.innerHTML = '';\n",
              "        dataTable['output_type'] = 'display_data';\n",
              "        await google.colab.output.renderOutput(dataTable, element);\n",
              "        const docLink = document.createElement('div');\n",
              "        docLink.innerHTML = docLinkHtml;\n",
              "        element.appendChild(docLink);\n",
              "      }\n",
              "    </script>\n",
              "  </div>\n",
              "\n",
              "\n",
              "<div id=\"df-616e48ff-2678-4b58-8a72-37e3e23bf375\">\n",
              "  <button class=\"colab-df-quickchart\" onclick=\"quickchart('df-616e48ff-2678-4b58-8a72-37e3e23bf375')\"\n",
              "            title=\"Suggest charts\"\n",
              "            style=\"display:none;\">\n",
              "\n",
              "<svg xmlns=\"http://www.w3.org/2000/svg\" height=\"24px\"viewBox=\"0 0 24 24\"\n",
              "     width=\"24px\">\n",
              "    <g>\n",
              "        <path d=\"M19 3H5c-1.1 0-2 .9-2 2v14c0 1.1.9 2 2 2h14c1.1 0 2-.9 2-2V5c0-1.1-.9-2-2-2zM9 17H7v-7h2v7zm4 0h-2V7h2v10zm4 0h-2v-4h2v4z\"/>\n",
              "    </g>\n",
              "</svg>\n",
              "  </button>\n",
              "\n",
              "<style>\n",
              "  .colab-df-quickchart {\n",
              "      --bg-color: #E8F0FE;\n",
              "      --fill-color: #1967D2;\n",
              "      --hover-bg-color: #E2EBFA;\n",
              "      --hover-fill-color: #174EA6;\n",
              "      --disabled-fill-color: #AAA;\n",
              "      --disabled-bg-color: #DDD;\n",
              "  }\n",
              "\n",
              "  [theme=dark] .colab-df-quickchart {\n",
              "      --bg-color: #3B4455;\n",
              "      --fill-color: #D2E3FC;\n",
              "      --hover-bg-color: #434B5C;\n",
              "      --hover-fill-color: #FFFFFF;\n",
              "      --disabled-bg-color: #3B4455;\n",
              "      --disabled-fill-color: #666;\n",
              "  }\n",
              "\n",
              "  .colab-df-quickchart {\n",
              "    background-color: var(--bg-color);\n",
              "    border: none;\n",
              "    border-radius: 50%;\n",
              "    cursor: pointer;\n",
              "    display: none;\n",
              "    fill: var(--fill-color);\n",
              "    height: 32px;\n",
              "    padding: 0;\n",
              "    width: 32px;\n",
              "  }\n",
              "\n",
              "  .colab-df-quickchart:hover {\n",
              "    background-color: var(--hover-bg-color);\n",
              "    box-shadow: 0 1px 2px rgba(60, 64, 67, 0.3), 0 1px 3px 1px rgba(60, 64, 67, 0.15);\n",
              "    fill: var(--button-hover-fill-color);\n",
              "  }\n",
              "\n",
              "  .colab-df-quickchart-complete:disabled,\n",
              "  .colab-df-quickchart-complete:disabled:hover {\n",
              "    background-color: var(--disabled-bg-color);\n",
              "    fill: var(--disabled-fill-color);\n",
              "    box-shadow: none;\n",
              "  }\n",
              "\n",
              "  .colab-df-spinner {\n",
              "    border: 2px solid var(--fill-color);\n",
              "    border-color: transparent;\n",
              "    border-bottom-color: var(--fill-color);\n",
              "    animation:\n",
              "      spin 1s steps(1) infinite;\n",
              "  }\n",
              "\n",
              "  @keyframes spin {\n",
              "    0% {\n",
              "      border-color: transparent;\n",
              "      border-bottom-color: var(--fill-color);\n",
              "      border-left-color: var(--fill-color);\n",
              "    }\n",
              "    20% {\n",
              "      border-color: transparent;\n",
              "      border-left-color: var(--fill-color);\n",
              "      border-top-color: var(--fill-color);\n",
              "    }\n",
              "    30% {\n",
              "      border-color: transparent;\n",
              "      border-left-color: var(--fill-color);\n",
              "      border-top-color: var(--fill-color);\n",
              "      border-right-color: var(--fill-color);\n",
              "    }\n",
              "    40% {\n",
              "      border-color: transparent;\n",
              "      border-right-color: var(--fill-color);\n",
              "      border-top-color: var(--fill-color);\n",
              "    }\n",
              "    60% {\n",
              "      border-color: transparent;\n",
              "      border-right-color: var(--fill-color);\n",
              "    }\n",
              "    80% {\n",
              "      border-color: transparent;\n",
              "      border-right-color: var(--fill-color);\n",
              "      border-bottom-color: var(--fill-color);\n",
              "    }\n",
              "    90% {\n",
              "      border-color: transparent;\n",
              "      border-bottom-color: var(--fill-color);\n",
              "    }\n",
              "  }\n",
              "</style>\n",
              "\n",
              "  <script>\n",
              "    async function quickchart(key) {\n",
              "      const quickchartButtonEl =\n",
              "        document.querySelector('#' + key + ' button');\n",
              "      quickchartButtonEl.disabled = true;  // To prevent multiple clicks.\n",
              "      quickchartButtonEl.classList.add('colab-df-spinner');\n",
              "      try {\n",
              "        const charts = await google.colab.kernel.invokeFunction(\n",
              "            'suggestCharts', [key], {});\n",
              "      } catch (error) {\n",
              "        console.error('Error during call to suggestCharts:', error);\n",
              "      }\n",
              "      quickchartButtonEl.classList.remove('colab-df-spinner');\n",
              "      quickchartButtonEl.classList.add('colab-df-quickchart-complete');\n",
              "    }\n",
              "    (() => {\n",
              "      let quickchartButtonEl =\n",
              "        document.querySelector('#df-616e48ff-2678-4b58-8a72-37e3e23bf375 button');\n",
              "      quickchartButtonEl.style.display =\n",
              "        google.colab.kernel.accessAllowed ? 'block' : 'none';\n",
              "    })();\n",
              "  </script>\n",
              "</div>\n",
              "\n",
              "  <div id=\"id_d6447c9f-7f48-4244-99e7-f2c0eeb76962\">\n",
              "    <style>\n",
              "      .colab-df-generate {\n",
              "        background-color: #E8F0FE;\n",
              "        border: none;\n",
              "        border-radius: 50%;\n",
              "        cursor: pointer;\n",
              "        display: none;\n",
              "        fill: #1967D2;\n",
              "        height: 32px;\n",
              "        padding: 0 0 0 0;\n",
              "        width: 32px;\n",
              "      }\n",
              "\n",
              "      .colab-df-generate:hover {\n",
              "        background-color: #E2EBFA;\n",
              "        box-shadow: 0px 1px 2px rgba(60, 64, 67, 0.3), 0px 1px 3px 1px rgba(60, 64, 67, 0.15);\n",
              "        fill: #174EA6;\n",
              "      }\n",
              "\n",
              "      [theme=dark] .colab-df-generate {\n",
              "        background-color: #3B4455;\n",
              "        fill: #D2E3FC;\n",
              "      }\n",
              "\n",
              "      [theme=dark] .colab-df-generate:hover {\n",
              "        background-color: #434B5C;\n",
              "        box-shadow: 0px 1px 3px 1px rgba(0, 0, 0, 0.15);\n",
              "        filter: drop-shadow(0px 1px 2px rgba(0, 0, 0, 0.3));\n",
              "        fill: #FFFFFF;\n",
              "      }\n",
              "    </style>\n",
              "    <button class=\"colab-df-generate\" onclick=\"generateWithVariable('Tidy_df')\"\n",
              "            title=\"Generate code using this dataframe.\"\n",
              "            style=\"display:none;\">\n",
              "\n",
              "  <svg xmlns=\"http://www.w3.org/2000/svg\" height=\"24px\"viewBox=\"0 0 24 24\"\n",
              "       width=\"24px\">\n",
              "    <path d=\"M7,19H8.4L18.45,9,17,7.55,7,17.6ZM5,21V16.75L18.45,3.32a2,2,0,0,1,2.83,0l1.4,1.43a1.91,1.91,0,0,1,.58,1.4,1.91,1.91,0,0,1-.58,1.4L9.25,21ZM18.45,9,17,7.55Zm-12,3A5.31,5.31,0,0,0,4.9,8.1,5.31,5.31,0,0,0,1,6.5,5.31,5.31,0,0,0,4.9,4.9,5.31,5.31,0,0,0,6.5,1,5.31,5.31,0,0,0,8.1,4.9,5.31,5.31,0,0,0,12,6.5,5.46,5.46,0,0,0,6.5,12Z\"/>\n",
              "  </svg>\n",
              "    </button>\n",
              "    <script>\n",
              "      (() => {\n",
              "      const buttonEl =\n",
              "        document.querySelector('#id_d6447c9f-7f48-4244-99e7-f2c0eeb76962 button.colab-df-generate');\n",
              "      buttonEl.style.display =\n",
              "        google.colab.kernel.accessAllowed ? 'block' : 'none';\n",
              "\n",
              "      buttonEl.onclick = () => {\n",
              "        google.colab.notebook.generateWithVariable('Tidy_df');\n",
              "      }\n",
              "      })();\n",
              "    </script>\n",
              "  </div>\n",
              "\n",
              "    </div>\n",
              "  </div>\n"
            ],
            "application/vnd.google.colaboratory.intrinsic+json": {
              "type": "dataframe",
              "variable_name": "Tidy_df",
              "summary": "{\n  \"name\": \"Tidy_df\",\n  \"rows\": 198,\n  \"fields\": [\n    {\n      \"column\": \"month\",\n      \"properties\": {\n        \"dtype\": \"category\",\n        \"num_unique_values\": 11,\n        \"samples\": [\n          \"Dec_2018\",\n          \"July_2018\",\n          \"June_2019\"\n        ],\n        \"semantic_type\": \"\",\n        \"description\": \"\"\n      }\n    },\n    {\n      \"column\": \"station\",\n      \"properties\": {\n        \"dtype\": \"number\",\n        \"std\": 1,\n        \"min\": 1,\n        \"max\": 6,\n        \"num_unique_values\": 6,\n        \"samples\": [\n          1,\n          2,\n          6\n        ],\n        \"semantic_type\": \"\",\n        \"description\": \"\"\n      }\n    },\n    {\n      \"column\": \"rep.\",\n      \"properties\": {\n        \"dtype\": \"number\",\n        \"std\": 0,\n        \"min\": 1,\n        \"max\": 3,\n        \"num_unique_values\": 3,\n        \"samples\": [\n          1,\n          2,\n          3\n        ],\n        \"semantic_type\": \"\",\n        \"description\": \"\"\n      }\n    },\n    {\n      \"column\": \"Chlo_a\",\n      \"properties\": {\n        \"dtype\": \"number\",\n        \"std\": 0.016726461040484794,\n        \"min\": 0.0076820000000000005,\n        \"max\": 0.09464500000000002,\n        \"num_unique_values\": 149,\n        \"samples\": [\n          0.035995,\n          0.040526,\n          0.018837\n        ],\n        \"semantic_type\": \"\",\n        \"description\": \"\"\n      }\n    },\n    {\n      \"column\": \"Chlo_b\",\n      \"properties\": {\n        \"dtype\": \"number\",\n        \"std\": 0.03174966026337716,\n        \"min\": 0.005214000000000001,\n        \"max\": 0.145029,\n        \"num_unique_values\": 149,\n        \"samples\": [\n          0.06008299999999999,\n          0.060154,\n          0.010214999999999998\n        ],\n        \"semantic_type\": \"\",\n        \"description\": \"\"\n      }\n    },\n    {\n      \"column\": \"total_Caro\",\n      \"properties\": {\n        \"dtype\": \"number\",\n        \"std\": 0.008822481992407417,\n        \"min\": 0.0024673012941176468,\n        \"max\": 0.0430066898280543,\n        \"num_unique_values\": 186,\n        \"samples\": [\n          0.013591840778280543,\n          0.0053498822986425346,\n          0.010896937484162896\n        ],\n        \"semantic_type\": \"\",\n        \"description\": \"\"\n      }\n    },\n    {\n      \"column\": \"Temp.\",\n      \"properties\": {\n        \"dtype\": \"number\",\n        \"std\": 1.9910020281354774,\n        \"min\": 24.2,\n        \"max\": 33.5,\n        \"num_unique_values\": 45,\n        \"samples\": [\n          31.0,\n          26.5,\n          25.8\n        ],\n        \"semantic_type\": \"\",\n        \"description\": \"\"\n      }\n    },\n    {\n      \"column\": \"pH\",\n      \"properties\": {\n        \"dtype\": \"number\",\n        \"std\": 0.8607180810425585,\n        \"min\": 2.99,\n        \"max\": 7.74,\n        \"num_unique_values\": 70,\n        \"samples\": [\n          6.67,\n          5.54,\n          5.03\n        ],\n        \"semantic_type\": \"\",\n        \"description\": \"\"\n      }\n    },\n    {\n      \"column\": \"EC\",\n      \"properties\": {\n        \"dtype\": \"number\",\n        \"std\": 101.12562885014299,\n        \"min\": 233.3,\n        \"max\": 687.6,\n        \"num_unique_values\": 77,\n        \"samples\": [\n          685.5,\n          318.8,\n          685.2\n        ],\n        \"semantic_type\": \"\",\n        \"description\": \"\"\n      }\n    },\n    {\n      \"column\": \"Salinity\",\n      \"properties\": {\n        \"dtype\": \"number\",\n        \"std\": 55.12576778193351,\n        \"min\": 123.3,\n        \"max\": 381.8,\n        \"num_unique_values\": 78,\n        \"samples\": [\n          173.6,\n          330.3,\n          182.1\n        ],\n        \"semantic_type\": \"\",\n        \"description\": \"\"\n      }\n    },\n    {\n      \"column\": \"TDS\",\n      \"properties\": {\n        \"dtype\": \"number\",\n        \"std\": 88.26721929894929,\n        \"min\": 185.2,\n        \"max\": 613.0,\n        \"num_unique_values\": 77,\n        \"samples\": [\n          581.2,\n          462.3,\n          581.0\n        ],\n        \"semantic_type\": \"\",\n        \"description\": \"\"\n      }\n    },\n    {\n      \"column\": \"DO\",\n      \"properties\": {\n        \"dtype\": \"number\",\n        \"std\": 2.335178559288004,\n        \"min\": 0.0,\n        \"max\": 7.64,\n        \"num_unique_values\": 73,\n        \"samples\": [\n          4.46,\n          4.92,\n          4.12\n        ],\n        \"semantic_type\": \"\",\n        \"description\": \"\"\n      }\n    },\n    {\n      \"column\": \"Nitrate\",\n      \"properties\": {\n        \"dtype\": \"number\",\n        \"std\": 0.11699368829449851,\n        \"min\": 0.10814209368123232,\n        \"max\": 0.5124174787802578,\n        \"num_unique_values\": 166,\n        \"samples\": [\n          0.16692863879283248,\n          0.2933039924552027,\n          0.1763596353348004\n        ],\n        \"semantic_type\": \"\",\n        \"description\": \"\"\n      }\n    },\n    {\n      \"column\": \"Ammonium\",\n      \"properties\": {\n        \"dtype\": \"number\",\n        \"std\": 0.06833636069497416,\n        \"min\": 0.009487886261424633,\n        \"max\": 0.43832873930073984,\n        \"num_unique_values\": 149,\n        \"samples\": [\n          0.019062817350935735,\n          0.045611489917307416,\n          0.020368489772232698\n        ],\n        \"semantic_type\": \"\",\n        \"description\": \"\"\n      }\n    },\n    {\n      \"column\": \"Phosphate\",\n      \"properties\": {\n        \"dtype\": \"number\",\n        \"std\": 0.009173647781606419,\n        \"min\": -0.00044843049327354304,\n        \"max\": 0.07270980140935299,\n        \"num_unique_values\": 112,\n        \"samples\": [\n          0.015823190262652147,\n          0.01787315823190263,\n          0.007238949391415759\n        ],\n        \"semantic_type\": \"\",\n        \"description\": \"\"\n      }\n    },\n    {\n      \"column\": \"No.Algal_cell\",\n      \"properties\": {\n        \"dtype\": \"number\",\n        \"std\": 1834237.9691546853,\n        \"min\": 64500.0,\n        \"max\": 12840000.0,\n        \"num_unique_values\": 197,\n        \"samples\": [\n          208050.0,\n          345800.0,\n          1109166.6666666667\n        ],\n        \"semantic_type\": \"\",\n        \"description\": \"\"\n      }\n    },\n    {\n      \"column\": \"@dropdown\",\n      \"properties\": {\n        \"dtype\": \"number\",\n        \"std\": null,\n        \"min\": null,\n        \"max\": null,\n        \"num_unique_values\": 0,\n        \"samples\": [],\n        \"semantic_type\": \"\",\n        \"description\": \"\"\n      }\n    }\n  ]\n}"
            }
          },
          "metadata": {},
          "execution_count": 93
        }
      ]
    },
    {
      "cell_type": "code",
      "source": [
        "Tidy_df = pd.read_excel(\"/content/drive/MyDrive/data_viz_2024/test-TidyData_2024.xlsx\")"
      ],
      "metadata": {
        "id": "RHX6KVnnF3xc"
      },
      "execution_count": 76,
      "outputs": []
    },
    {
      "cell_type": "code",
      "source": [
        "df_2018 = df[df['month'].str.contains('2018')]\n",
        "df_2019 = df[df['month'].str.contains('2019')]"
      ],
      "metadata": {
        "id": "FcUyeJ1rH0F6"
      },
      "execution_count": 98,
      "outputs": []
    },
    {
      "cell_type": "code",
      "source": [
        "mean_2018 = df_2018.groupby('station')['Chlo_a'].mean().reset_index()\n",
        "mean_2018.rename(columns={'Chlo_a': 'Mean_Chlo_a_2018'}, inplace=True)\n",
        "\n",
        "mean_2019 = df_2019.groupby('station')['Chlo_a'].mean().reset_index()\n",
        "mean_2019.rename(columns={'Chlo_a': 'Mean_Chlo_a_2019'}, inplace=True)\n"
      ],
      "metadata": {
        "id": "EErx0eASHxgW"
      },
      "execution_count": 99,
      "outputs": []
    },
    {
      "cell_type": "code",
      "source": [
        "mean_comparison = pd.merge(mean_2018, mean_2019, on='station')\n"
      ],
      "metadata": {
        "id": "16UjPJrMIFlL"
      },
      "execution_count": 100,
      "outputs": []
    },
    {
      "cell_type": "code",
      "source": [
        "mean_comparison['Difference'] = mean_comparison['Mean_Chlo_a_2019'] - mean_comparison['Mean_Chlo_a_2018']\n",
        "print(mean_comparison)"
      ],
      "metadata": {
        "colab": {
          "base_uri": "https://localhost:8080/"
        },
        "id": "8w0pZ-spIJos",
        "outputId": "728fccce-a47c-42bb-ccd3-135d40652784"
      },
      "execution_count": 101,
      "outputs": [
        {
          "output_type": "stream",
          "name": "stdout",
          "text": [
            "   station  Mean_Chlo_a_2018  Mean_Chlo_a_2019  Difference\n",
            "0        1          0.052529          0.018268   -0.034261\n",
            "1        2          0.048112          0.027911   -0.020201\n",
            "2        3          0.053285          0.023057   -0.030228\n",
            "3        4          0.046794          0.021620   -0.025173\n",
            "4        5          0.043432          0.020100   -0.023331\n",
            "5        6          0.043809          0.015594   -0.028215\n"
          ]
        }
      ]
    },
    {
      "cell_type": "markdown",
      "source": [
        "#ข้อ 2"
      ],
      "metadata": {
        "id": "ZTJe4aQEPw3O"
      }
    },
    {
      "cell_type": "markdown",
      "source": [
        "สร้างตารางค่าเฉลี่ย Chlo_b ทุกๆ station ของแต่ละเดือน"
      ],
      "metadata": {
        "id": "jvnBr6bzQkqp"
      }
    },
    {
      "cell_type": "code",
      "source": [
        "import pandas as pd"
      ],
      "metadata": {
        "id": "lKIYjsU8Qowm"
      },
      "execution_count": 102,
      "outputs": []
    },
    {
      "cell_type": "code",
      "source": [
        "Tidy_df = pd.read_excel(\"/content/drive/MyDrive/data_viz_2024/test-TidyData_2024.xlsx\")"
      ],
      "metadata": {
        "id": "pSPKctr2R09_"
      },
      "execution_count": 103,
      "outputs": []
    },
    {
      "cell_type": "code",
      "source": [
        "print(df.head())"
      ],
      "metadata": {
        "colab": {
          "base_uri": "https://localhost:8080/"
        },
        "id": "960sKYrER06k",
        "outputId": "3c5b8d17-9069-4c91-f7e8-d61cc70e387b"
      },
      "execution_count": 104,
      "outputs": [
        {
          "output_type": "stream",
          "name": "stdout",
          "text": [
            "       month  station  rep.    Chlo_a    Chlo_b  total_Caro  Temp.    pH  \\\n",
            "0  July_2018        1     1  0.094645  0.011954    0.026780   30.2  5.54   \n",
            "1  July_2018        2     1  0.038433  0.059019    0.021387   29.1  6.24   \n",
            "2  July_2018        3     1  0.043884  0.089415    0.023223   29.7  5.52   \n",
            "3  July_2018        4     1  0.039836  0.064552    0.016537   29.2  5.92   \n",
            "4  July_2018        5     1  0.044712  0.062424    0.022990   29.5  5.79   \n",
            "\n",
            "      EC  Salinity    TDS    DO   Nitrate  Ammonium  Phosphate  No.Algal_cell  \\\n",
            "0  622.7     330.3  545.2  4.37  0.172902  0.052817   0.012748   1.635833e+05   \n",
            "1  580.7     307.0  488.2  6.55  0.154197  0.144843   0.006086   1.166667e+06   \n",
            "2  547.1     289.4  462.2  5.67  0.153097  0.154321   0.014158   2.970000e+06   \n",
            "3  473.6     249.2  397.9  0.69  0.157026  0.387408   0.056951   5.066667e+05   \n",
            "4  685.5     366.0  581.2  4.46  0.204024  0.043387   0.007239   1.265000e+06   \n",
            "\n",
            "   @dropdown  \n",
            "0        NaN  \n",
            "1        NaN  \n",
            "2        NaN  \n",
            "3        NaN  \n",
            "4        NaN  \n"
          ]
        }
      ]
    },
    {
      "cell_type": "code",
      "source": [
        "mean_chlo_b = df.groupby(['month', 'station'])['Chlo_b'].mean().reset_index()"
      ],
      "metadata": {
        "id": "An5xjGvuR04D"
      },
      "execution_count": 107,
      "outputs": []
    },
    {
      "cell_type": "code",
      "source": [
        "mean_chlo_b.rename(columns={'Chlo_b': 'Mean_Chlo_b'}, inplace=True)"
      ],
      "metadata": {
        "id": "-jVqTJ_sSUzu"
      },
      "execution_count": 108,
      "outputs": []
    },
    {
      "cell_type": "code",
      "source": [
        "print(mean_chlo_b)"
      ],
      "metadata": {
        "colab": {
          "base_uri": "https://localhost:8080/"
        },
        "id": "3QdA0vjUSauC",
        "outputId": "5bb91ee6-44a7-4667-ce4f-e218eaa54979"
      },
      "execution_count": 109,
      "outputs": [
        {
          "output_type": "stream",
          "name": "stdout",
          "text": [
            "       month  station  Mean_Chlo_b\n",
            "0   Apr_2019        1     0.051381\n",
            "1   Apr_2019        2     0.019378\n",
            "2   Apr_2019        3     0.030775\n",
            "3   Apr_2019        4     0.020170\n",
            "4   Apr_2019        5     0.027015\n",
            "..       ...      ...          ...\n",
            "61  Sep_2018        2     0.074578\n",
            "62  Sep_2018        3     0.076292\n",
            "63  Sep_2018        4     0.064670\n",
            "64  Sep_2018        5     0.060733\n",
            "65  Sep_2018        6     0.061750\n",
            "\n",
            "[66 rows x 3 columns]\n"
          ]
        }
      ]
    }
  ]
}